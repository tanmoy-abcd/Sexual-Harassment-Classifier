{
 "cells": [
  {
   "cell_type": "code",
   "execution_count": 1,
   "metadata": {},
   "outputs": [],
   "source": [
    "import warnings\n",
    "warnings.filterwarnings(\"ignore\")"
   ]
  },
  {
   "cell_type": "code",
   "execution_count": 3,
   "metadata": {},
   "outputs": [
    {
     "name": "stderr",
     "output_type": "stream",
     "text": [
      "C:\\ProgramData\\Anaconda3\\lib\\site-packages\\sklearn\\base.py:318: UserWarning: Trying to unpickle estimator TfidfTransformer from version 0.22.2.post1 when using version 0.22.1. This might lead to breaking code or invalid results. Use at your own risk.\n",
      "  UserWarning)\n",
      "C:\\ProgramData\\Anaconda3\\lib\\site-packages\\sklearn\\base.py:318: UserWarning: Trying to unpickle estimator TfidfVectorizer from version 0.22.2.post1 when using version 0.22.1. This might lead to breaking code or invalid results. Use at your own risk.\n",
      "  UserWarning)\n"
     ]
    }
   ],
   "source": [
    "import pickle\n",
    "import pandas as pd\n",
    "\n",
    "train = pd.read_csv(r\"train.csv\")\n",
    "test = pd.read_csv(r\"test.csv\")\n"
   ]
  },
  {
   "cell_type": "code",
   "execution_count": 4,
   "metadata": {},
   "outputs": [],
   "source": [
    "xtrain = train['Description'].values\n",
    "ytrain = train[['Commenting' , 'Ogling/Facial Expressions/Staring' ,'Touching /Groping']].values\n",
    "\n",
    "xtest = test['Description'].values\n",
    "ytest = test[['Commenting' , 'Ogling/Facial Expressions/Staring' ,'Touching /Groping']].values"
   ]
  },
  {
   "cell_type": "code",
   "execution_count": 6,
   "metadata": {},
   "outputs": [],
   "source": [
    "import re\n",
    "from nltk.stem import PorterStemmer\n",
    "\n",
    "def preprocess(data):\n",
    "    stopwords= ['i', 'me', 'my', 'myself', 'we', 'our', 'ours', 'ourselves', 'you', \"you're\", \"you've\",\\\n",
    "            \"you'll\", \"you'd\", 'your', 'yours', 'yourself', 'yourselves', 'he', 'him', 'his', 'himself', \\\n",
    "            'she', \"she's\", 'her', 'hers', 'herself', 'it', \"it's\", 'its', 'itself', 'they', 'them', 'their',\\\n",
    "            'theirs', 'themselves', 'what', 'which', 'who', 'whom', 'this', 'that', \"that'll\", 'these', 'those', \\\n",
    "            'am', 'is', 'are', 'was', 'were', 'be', 'been', 'being', 'have', 'has', 'had', 'having', 'do', 'does', \\\n",
    "            'did', 'doing', 'a', 'an', 'the', 'and', 'but', 'if', 'or', 'because', 'as', 'until', 'while', 'of', \\\n",
    "            'at', 'by', 'for', 'with', 'about', 'against', 'between', 'into', 'through', 'during', 'before', 'after',\\\n",
    "            'above', 'below', 'to', 'from', 'up', 'down', 'in', 'out', 'on', 'off', 'over', 'under', 'again', 'further',\\\n",
    "            'then', 'once', 'here', 'there', 'when', 'where', 'why', 'how', 'all', 'any', 'both', 'each', 'few', 'more',\\\n",
    "            'most', 'other', 'some', 'such', 'only', 'own', 'same', 'so', 'than', 'too', 'very', \\\n",
    "            's', 't', 'can', 'will', 'just', 'don', \"don't\"]\n",
    "    \n",
    "    data = data.lower() #Making all the data to lowercase\n",
    "    \n",
    "    data = re.sub(r\"n\\'t\", \" not\", data)   #decontraction\n",
    "    data = re.sub(r\"\\'re\", \" are\", data)   #decontraction\n",
    "    data = re.sub(r\"\\'s\", \" is\", data)   #decontraction\n",
    "    data = re.sub(r\"\\'d\", \" would\", data)   #decontraction\n",
    "    data = re.sub(r\"\\'ll\", \" will\", data)   #decontraction\n",
    "    data = re.sub(r\"\\'t\", \" not\", data)   #decontraction\n",
    "    data = re.sub(r\"\\'ve\", \" have\", data)   #decontraction\n",
    "    data = re.sub(r\"\\'m\", \" am\", data)   #decontraction\n",
    "    \n",
    "    d = data.split()\n",
    "    d.append('0')\n",
    "    for index , i in enumerate(d):\n",
    "        if len(i)<=2:                 #removing words that is of length 2 or less\n",
    "            d[index] = '0'\n",
    "    data = ' '.join(d)\n",
    "    \n",
    "    data = re.sub('[^a-z ]',' ',data) #removing all the non alphabets i.e. comma , . - _ numbers \n",
    "    data = re.sub(\"\\s+\",' ',data) #removing all extra spaces \n",
    "    data = data.strip() #removing spaces at the end \n",
    "    \n",
    "    data = ' '.join([i for i in data.split() if i not in stopwords])  #removing all stopwords\n",
    "    data = ' '.join([w for w in data.split() if len(w)>3 and len(w)<15]) #removing all words whose length < 3 and > 15.\n",
    "    \n",
    "    return data\n",
    "        \n",
    "    \n",
    "def stem(data_corpus):\n",
    "    ps = PorterStemmer()\n",
    "    stemmed_data = [] \n",
    "    for sentence in data_corpus:\n",
    "        stemmed_data.append(\" \".join([ps.stem(i) for i in sentence.split()]))\n",
    "    return stemmed_data\n",
    "        \n",
    "    "
   ]
  },
  {
   "cell_type": "code",
   "execution_count": 7,
   "metadata": {},
   "outputs": [],
   "source": [
    "train = []\n",
    "test = []\n",
    "\n",
    "for desc in xtrain:\n",
    "    train.append(preprocess(desc))\n",
    "    \n",
    "for desc in xtest:\n",
    "    test.append(preprocess(desc))\n",
    "    \n",
    "stem_train = stem(train)\n",
    "stem_test = stem(test)\n"
   ]
  },
  {
   "cell_type": "code",
   "execution_count": 9,
   "metadata": {},
   "outputs": [],
   "source": [
    "from sklearn.feature_extraction.text import TfidfVectorizer\n",
    "vectoriser = TfidfVectorizer(stop_words = 'english' , ngram_range=(1,3),min_df = 5)\n",
    "\n",
    "train_bigram_trigrams = vectoriser.fit_transform(stem_train)\n",
    "val_bigram_trigrams = vectoriser.transform(stem_test) \n"
   ]
  },
  {
   "cell_type": "code",
   "execution_count": 12,
   "metadata": {},
   "outputs": [
    {
     "name": "stdout",
     "output_type": "stream",
     "text": [
      "Requirement already satisfied: scikit-multilearn in c:\\programdata\\anaconda3\\lib\\site-packages (0.2.0)\n"
     ]
    }
   ],
   "source": [
    "!pip install scikit-multilearn"
   ]
  },
  {
   "cell_type": "code",
   "execution_count": 16,
   "metadata": {},
   "outputs": [
    {
     "name": "stdout",
     "output_type": "stream",
     "text": [
      "F1 score of the model is 0.6784638554216866\n",
      "==================================================\n",
      "Hamming loss of the model is 0.1673525377229081\n"
     ]
    }
   ],
   "source": [
    "from sklearn.ensemble import RandomForestClassifier\n",
    "from skmultilearn.problem_transform import BinaryRelevance\n",
    "from sklearn.metrics import f1_score\n",
    "from sklearn.metrics import hamming_loss\n",
    "\n",
    "xtrain = train_bigram_trigrams\n",
    "xtest = val_bigram_trigrams\n",
    "\n",
    "\n",
    "clf = RandomForestClassifier(n_estimators = 100 , n_jobs = -1)\n",
    "clf.fit(xtrain,ytrain)\n",
    "\n",
    "pred = clf.predict(xtest)\n",
    "\n",
    "print('F1 score of the model is {}'.format(f1_score(ytest, pred , average = 'micro')))\n",
    "print('='*50)\n",
    "print('Hamming loss of the model is {}'.format(hamming_loss(ytest , pred)))\n"
   ]
  },
  {
   "cell_type": "code",
   "execution_count": 17,
   "metadata": {},
   "outputs": [
    {
     "data": {
      "text/plain": [
       "['model1.pkl']"
      ]
     },
     "execution_count": 17,
     "metadata": {},
     "output_type": "execute_result"
    }
   ],
   "source": [
    "import joblib\n",
    "joblib.dump(vectoriser , 'vectoriser.pkl')\n",
    "joblib.dump(clf , 'model.pkl')"
   ]
  },
  {
   "cell_type": "code",
   "execution_count": 19,
   "metadata": {},
   "outputs": [],
   "source": [
    "\n",
    "\n",
    "model = joblib.load(r\"model1.pkl\" )\n",
    "\n",
    "vectoriser = joblib.load(r\"vectoriser1.pkl\")\n",
    "\n",
    "def predict(X):\n",
    "    \n",
    "    \"\"\" function 1 is a prediction function\n",
    "    \n",
    "        It takes 1 argument \n",
    "        X : A list of raw data or a raw string\n",
    "        \n",
    "        returns the prediction in binary format like [1,0,0] and also prints the inference of the predicction\"\"\"\n",
    "    \n",
    "    if type(X) == str:\n",
    "        X = [X]\n",
    "    #preprocessing all data\n",
    "    input_query = []\n",
    "    for i in X:\n",
    "        input_query.append(preprocess(i))\n",
    "        \n",
    "    input_query = stem(input_query)\n",
    "\n",
    "  #Vectorising the data unigram , bigram , trigram , maximum occurance 5 times\n",
    "\n",
    "    vector = vectoriser.transform(input_query)\n",
    "\n",
    "  #predicting using pretrained model\n",
    "\n",
    "    pred = model.predict(vector)\n",
    "    \n",
    "#     printing outputs\n",
    "\n",
    "    for i in pred: \n",
    "        result = []\n",
    "        if i[0] == 1:\n",
    "            result.append(\"Commenting \")\n",
    "        if i[1] == 1:\n",
    "            result.append(\"Staring \")\n",
    "        if i[2] == 1:\n",
    "            result.append(\"Groping \")\n",
    "        if len(result) == 0 :\n",
    "            result.append('Cannot be Classified')\n",
    "        print(' , '.join(result))    \n",
    "        \n",
    "    return pred \n",
    "        "
   ]
  },
  {
   "cell_type": "code",
   "execution_count": null,
   "metadata": {},
   "outputs": [],
   "source": []
  }
 ],
 "metadata": {
  "kernelspec": {
   "display_name": "Python 3",
   "language": "python",
   "name": "python3"
  },
  "language_info": {
   "codemirror_mode": {
    "name": "ipython",
    "version": 3
   },
   "file_extension": ".py",
   "mimetype": "text/x-python",
   "name": "python",
   "nbconvert_exporter": "python",
   "pygments_lexer": "ipython3",
   "version": "3.7.6"
  }
 },
 "nbformat": 4,
 "nbformat_minor": 4
}
